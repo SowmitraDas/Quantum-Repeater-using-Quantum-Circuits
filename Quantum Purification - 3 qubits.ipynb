{
 "cells": [
  {
   "cell_type": "markdown",
   "metadata": {},
   "source": [
    "# importing libraries"
   ]
  },
  {
   "cell_type": "code",
   "execution_count": 1,
   "metadata": {},
   "outputs": [],
   "source": [
    "import math\n",
    "from math import pi\n",
    "\n",
    "from qiskit import QuantumCircuit, ClassicalRegister, QuantumRegister"
   ]
  },
  {
   "cell_type": "markdown",
   "metadata": {},
   "source": [
    "# create sub-circuit for entanglement swapping"
   ]
  },
  {
   "cell_type": "code",
   "execution_count": 5,
   "metadata": {},
   "outputs": [],
   "source": [
    "sub_q = QuantumRegister(3)\n",
    "sub_circ = QuantumCircuit(sub_q, name='sub_circ')\n",
    "\n",
    "sub_circ.cx(sub_q[0], sub_q[1])\n",
    "sub_circ.h(sub_q[0])\n",
    "sub_circ.cx(sub_q[1], sub_q[2])\n",
    "sub_circ.cz(sub_q[0], sub_q[2])\n",
    "\n",
    "ent_swap = sub_circ.to_instruction()"
   ]
  },
  {
   "cell_type": "markdown",
   "metadata": {},
   "source": [
    "# preparing circuit"
   ]
  },
  {
   "cell_type": "code",
   "execution_count": null,
   "metadata": {},
   "outputs": [],
   "source": [
    "# preparing registers\n",
    "\n",
    "pair1 = QuantumRegister(2, \"pair1\")\n",
    "pair2 = QuantumRegister(2, \"pair2\")\n",
    "pair3 = QuantumRegister(2, \"pair3\")\n",
    "\n",
    "check2 = ClassicalRegister(2, \"check2\")\n",
    "check3 = ClassicalRegister(2, \"check3\")\n",
    "\n",
    "result = ClassicalRegister(2, \"result\")"
   ]
  },
  {
   "cell_type": "code",
   "execution_count": null,
   "metadata": {},
   "outputs": [],
   "source": [
    "# constructing circuit\n",
    "\n",
    "sys = QuantumCircuit(pair1, pair2, pair3, \n",
    "                     check2, check3, \n",
    "                     result)"
   ]
  },
  {
   "cell_type": "code",
   "execution_count": null,
   "metadata": {},
   "outputs": [],
   "source": [
    "#creating bell-pairs\n",
    "sys.h(pair1[0])\n",
    "sys.cx(pair1[0], pair1[1])\n",
    "\n",
    "sys.h(pair2[0])\n",
    "sys.cx(pair2[0], pair2[1])\n",
    "\n",
    "sys.h(pair3[0])\n",
    "sys.cx(pair3[0], pair3[1])\n",
    "\n",
    "sys.barrier()\n"
   ]
  },
  {
   "cell_type": "code",
   "execution_count": null,
   "metadata": {},
   "outputs": [],
   "source": [
    "#Deutsch's Correction \n",
    "\n",
    "#rotation-Alice\n",
    "sys.rx(pi/2, pair1[0])\n",
    "sys.rx(pi/2, pair2[0])\n",
    "sys.rx(pi/2, pair3[0])\n",
    "\n",
    "#rotation-Bob\n",
    "sys.rx(-pi/2, pair1[1])\n",
    "sys.rx(-pi/2, pair2[1])\n",
    "sys.rx(-pi/2, pair3[1])\n",
    "\n",
    "sys.barrier()"
   ]
  },
  {
   "cell_type": "code",
   "execution_count": null,
   "metadata": {},
   "outputs": [],
   "source": [
    "#entanglement pumping\n",
    "sys.cx(pair1[0], pair2[0])\n",
    "sys.cx(pair1[0], pair3[0])\n",
    "sys.barrier()\n",
    "\n",
    "sys.cx(pair1[1], pair2[1])\n",
    "sys.cx(pair1[1], pair3[1])\n",
    "sys.barrier()"
   ]
  },
  {
   "cell_type": "code",
   "execution_count": null,
   "metadata": {},
   "outputs": [],
   "source": [
    "#checking fidelity through bell-measurement\n",
    "sys.cx(pair1[0], pair1[1])\n",
    "sys.h(pair1[0])\n",
    "sys.barrier()"
   ]
  },
  {
   "cell_type": "code",
   "execution_count": null,
   "metadata": {},
   "outputs": [],
   "source": [
    "#distillation\n",
    "\n",
    "sys.measure(pair2, check2)\n",
    "sys.measure(pair3, check3)\n",
    "sys.barrier()"
   ]
  },
  {
   "cell_type": "code",
   "execution_count": null,
   "metadata": {},
   "outputs": [],
   "source": [
    "sys.measure(pair1, result)"
   ]
  },
  {
   "cell_type": "code",
   "execution_count": null,
   "metadata": {},
   "outputs": [],
   "source": [
    "style = {'fold':20}\n",
    "sys.draw(output='mpl', style=style)"
   ]
  },
  {
   "cell_type": "markdown",
   "metadata": {},
   "source": [
    "# running on real device"
   ]
  },
  {
   "cell_type": "code",
   "execution_count": null,
   "metadata": {},
   "outputs": [],
   "source": [
    "from qiskit import IBMQ\n",
    "\n",
    "IBMQ.load_account() # Load account from disk\n",
    "provider = IBMQ.get_provider(group='open')\n",
    "provider.backends()"
   ]
  },
  {
   "cell_type": "code",
   "execution_count": null,
   "metadata": {},
   "outputs": [],
   "source": [
    "backend = provider.get_backend('ibmq_16_melbourne')"
   ]
  },
  {
   "cell_type": "code",
   "execution_count": null,
   "metadata": {},
   "outputs": [],
   "source": [
    "from qiskit import execute\n",
    "from qiskit.tools.monitor import job_monitor"
   ]
  },
  {
   "cell_type": "code",
   "execution_count": null,
   "metadata": {},
   "outputs": [],
   "source": [
    "shots = 1024\n",
    "job = execute(sys, backend=backend, shots=shots)\n",
    "\n",
    "print(job.job_id())\n",
    "job_monitor(job)"
   ]
  },
  {
   "cell_type": "code",
   "execution_count": null,
   "metadata": {},
   "outputs": [],
   "source": [
    "job.error_message()"
   ]
  },
  {
   "cell_type": "markdown",
   "metadata": {},
   "source": [
    "# measurement error mitigation"
   ]
  },
  {
   "cell_type": "code",
   "execution_count": null,
   "metadata": {},
   "outputs": [],
   "source": [
    "from qiskit.ignis.mitigation.measurement import (complete_meas_cal, CompleteMeasFitter)"
   ]
  },
  {
   "cell_type": "code",
   "execution_count": null,
   "metadata": {},
   "outputs": [],
   "source": [
    "cal_circuits, state_labels = complete_meas_cal(qr=sys.qregs[0], \n",
    "                                               circlabel='measurement_calibration')"
   ]
  },
  {
   "cell_type": "code",
   "execution_count": null,
   "metadata": {},
   "outputs": [],
   "source": [
    "len(cal_circuits)"
   ]
  },
  {
   "cell_type": "code",
   "execution_count": null,
   "metadata": {},
   "outputs": [],
   "source": []
  }
 ],
 "metadata": {
  "kernelspec": {
   "display_name": "Python 3",
   "language": "python",
   "name": "python3"
  },
  "language_info": {
   "codemirror_mode": {
    "name": "ipython",
    "version": 3
   },
   "file_extension": ".py",
   "mimetype": "text/x-python",
   "name": "python",
   "nbconvert_exporter": "python",
   "pygments_lexer": "ipython3",
   "version": "3.7.7"
  }
 },
 "nbformat": 4,
 "nbformat_minor": 4
}
