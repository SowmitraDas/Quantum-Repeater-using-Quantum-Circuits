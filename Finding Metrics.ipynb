{
 "cells": [
  {
   "cell_type": "code",
   "execution_count": 1,
   "metadata": {},
   "outputs": [],
   "source": [
    "from math import pi\n",
    "\n",
    "from qiskit import QuantumCircuit, ClassicalRegister, QuantumRegister\n",
    "from qiskit import Aer, execute"
   ]
  },
  {
   "cell_type": "code",
   "execution_count": 2,
   "metadata": {},
   "outputs": [],
   "source": [
    "circ = QuantumCircuit(3,3)"
   ]
  },
  {
   "cell_type": "code",
   "execution_count": 3,
   "metadata": {},
   "outputs": [
    {
     "data": {
      "text/plain": [
       "<qiskit.circuit.instructionset.InstructionSet at 0x1f2771425c0>"
      ]
     },
     "execution_count": 3,
     "metadata": {},
     "output_type": "execute_result"
    }
   ],
   "source": [
    "circ.x(2)\n",
    "circ.measure([0, 1, 2], [0, 1, 2])"
   ]
  },
  {
   "cell_type": "code",
   "execution_count": 4,
   "metadata": {},
   "outputs": [
    {
     "data": {
      "text/html": [
       "<pre style=\"word-wrap: normal;white-space: pre;background: #fff0;line-height: 1.1;font-family: &quot;Courier New&quot;,Courier,monospace\">          ┌─┐      \n",
       "q_0: ─────┤M├──────\n",
       "          └╥┘┌─┐   \n",
       "q_1: ──────╫─┤M├───\n",
       "     ┌───┐ ║ └╥┘┌─┐\n",
       "q_2: ┤ X ├─╫──╫─┤M├\n",
       "     └───┘ ║  ║ └╥┘\n",
       "c_0: ══════╩══╬══╬═\n",
       "              ║  ║ \n",
       "c_1: ═════════╩══╬═\n",
       "                 ║ \n",
       "c_2: ════════════╩═\n",
       "                   </pre>"
      ],
      "text/plain": [
       "          ┌─┐      \n",
       "q_0: ─────┤M├──────\n",
       "          └╥┘┌─┐   \n",
       "q_1: ──────╫─┤M├───\n",
       "     ┌───┐ ║ └╥┘┌─┐\n",
       "q_2: ┤ X ├─╫──╫─┤M├\n",
       "     └───┘ ║  ║ └╥┘\n",
       "c_0: ══════╩══╬══╬═\n",
       "              ║  ║ \n",
       "c_1: ═════════╩══╬═\n",
       "                 ║ \n",
       "c_2: ════════════╩═\n",
       "                   "
      ]
     },
     "execution_count": 4,
     "metadata": {},
     "output_type": "execute_result"
    }
   ],
   "source": [
    "circ.draw()"
   ]
  },
  {
   "cell_type": "code",
   "execution_count": 5,
   "metadata": {},
   "outputs": [],
   "source": [
    "simulator = Aer.get_backend('qasm_simulator')\n",
    "shots = 1024\n",
    "job = execute(circ, backend=simulator, shots=shots)"
   ]
  },
  {
   "cell_type": "code",
   "execution_count": 6,
   "metadata": {},
   "outputs": [],
   "source": [
    "result = job.result()\n",
    "counts = result.get_counts()"
   ]
  },
  {
   "cell_type": "code",
   "execution_count": 7,
   "metadata": {},
   "outputs": [
    {
     "data": {
      "text/plain": [
       "{'100': 1024}"
      ]
     },
     "execution_count": 7,
     "metadata": {},
     "output_type": "execute_result"
    }
   ],
   "source": [
    "counts"
   ]
  },
  {
   "cell_type": "code",
   "execution_count": 8,
   "metadata": {},
   "outputs": [
    {
     "ename": "AttributeError",
     "evalue": "'dict' object has no attribute 'type'",
     "output_type": "error",
     "traceback": [
      "\u001b[1;31m---------------------------------------------------------------------------\u001b[0m",
      "\u001b[1;31mAttributeError\u001b[0m                            Traceback (most recent call last)",
      "\u001b[1;32m<ipython-input-8-02f32f64c3ef>\u001b[0m in \u001b[0;36m<module>\u001b[1;34m\u001b[0m\n\u001b[1;32m----> 1\u001b[1;33m \u001b[0mcounts\u001b[0m\u001b[1;33m.\u001b[0m\u001b[0mtype\u001b[0m\u001b[1;33m(\u001b[0m\u001b[1;33m)\u001b[0m\u001b[1;33m\u001b[0m\u001b[1;33m\u001b[0m\u001b[0m\n\u001b[0m",
      "\u001b[1;31mAttributeError\u001b[0m: 'dict' object has no attribute 'type'"
     ]
    }
   ],
   "source": []
  },
  {
   "cell_type": "code",
   "execution_count": 9,
   "metadata": {},
   "outputs": [],
   "source": [
    "student = {'name':'John', 'marks':15}"
   ]
  },
  {
   "cell_type": "code",
   "execution_count": 10,
   "metadata": {},
   "outputs": [
    {
     "name": "stdout",
     "output_type": "stream",
     "text": [
      "name\n",
      "John\n",
      "marks\n",
      "15\n"
     ]
    }
   ],
   "source": [
    "for i in student:\n",
    "    print(i)\n",
    "    print(student[i])"
   ]
  },
  {
   "cell_type": "code",
   "execution_count": 11,
   "metadata": {},
   "outputs": [],
   "source": [
    "i= 'name'"
   ]
  },
  {
   "cell_type": "code",
   "execution_count": 13,
   "metadata": {},
   "outputs": [
    {
     "data": {
      "text/plain": [
       "'ame'"
      ]
     },
     "execution_count": 13,
     "metadata": {},
     "output_type": "execute_result"
    }
   ],
   "source": [
    "i[1:]"
   ]
  },
  {
   "cell_type": "markdown",
   "metadata": {},
   "source": [
    "# Function for Finding Metrics"
   ]
  },
  {
   "cell_type": "code",
   "execution_count": 48,
   "metadata": {},
   "outputs": [],
   "source": [
    "def metrics(counts):\n",
    "    success, fail = 0, 0\n",
    "    phi_plus, psi_plus, phi_minus, psi_minus = 0, 0, 0, 0 \n",
    "\n",
    "    for result in counts:\n",
    "        if (result[0]==result[1] and result[2]==result[3]):\n",
    "            success += counts[result]\n",
    "\n",
    "            if (result[4:]=='00'): \n",
    "                phi_plus += counts[result]\n",
    "            elif (result[4:]=='01'): \n",
    "                psi_plus += counts[result]\n",
    "            elif (result[4:]=='10'): \n",
    "                phi_minus += counts[result]\n",
    "            elif (result[4:]=='11'): \n",
    "                psi_minus += counts[result]\n",
    "        else:\n",
    "            fail += counts[result]\n",
    "\n",
    "    total = success + fail\n",
    "    print('success:', success, ',', 'fail:', fail, ',', 'total:', total)\n",
    "    yields = success/(total)\n",
    "    print('yield:', yields, '\\n')\n",
    "\n",
    "    print('Among success, phi+:', phi_plus, ',', 'psi+:', psi_plus, ',', 'phi-:', phi_minus, ',', 'psi-:', psi_minus)\n",
    "    fidelity = phi_plus/success\n",
    "    print('fidelity', fidelity)"
   ]
  },
  {
   "cell_type": "markdown",
   "metadata": {},
   "source": [
    "# Finding Metrics (With Channel)"
   ]
  },
  {
   "cell_type": "code",
   "execution_count": 49,
   "metadata": {},
   "outputs": [],
   "source": [
    "# paste dictionary here\n",
    "counts_device_with_channel = {'011101': 56, '001101': 107, '101011': 117, '010110': 103, '011011': 69, '000000': 309, '011111': 51, '100100': 164, '100110': 162, '111001': 64, '110110': 98, '100011': 212, '111100': 34, '101010': 92, '000111': 179, '100000': 258, '101100': 81, '101001': 107, '010001': 187, '010111': 110, '010100': 130, '110010': 112, '111010': 56, '001011': 122, '111110': 31, '111101': 30, '011001': 64, '000010': 296, '111011': 48, '110000': 148, '000001': 316, '100010': 232, '110001': 143, '111000': 65, '011010': 71, '101110': 79, '010101': 122, '011000': 90, '101111': 83, '001100': 81, '110011': 152, '110101': 101, '001000': 119, '001110': 77, '100111': 153, '110100': 108, '011100': 57, '101101': 85, '001010': 113, '000100': 210, '101000': 118, '001001': 130, '100101': 156, '010000': 172, '000011': 290, '111111': 47, '000110': 188, '110111': 68, '010010': 166, '011110': 46, '000101': 244, '010011': 178, '100001': 254, '001111': 81}"
   ]
  },
  {
   "cell_type": "code",
   "execution_count": 50,
   "metadata": {},
   "outputs": [
    {
     "name": "stdout",
     "output_type": "stream",
     "text": [
      "success: 2254 , fail: 5938 , total: 8192\n",
      "yield: 0.275146484375 \n",
      "\n",
      "Among success, phi+: 572 , psi+: 596 , phi-: 516 , psi-: 570\n",
      "fidelity 0.25377107364685003\n"
     ]
    }
   ],
   "source": [
    "metrics(counts_device_with_channel)"
   ]
  },
  {
   "cell_type": "code",
   "execution_count": 51,
   "metadata": {},
   "outputs": [],
   "source": [
    "counts_miti_with_channel = {'000101': 209.07976862371822, '001010': 87.94815038866764, '110011': 219.3150456386044, '111010': 81.20340918992707, '100011': 231.1279404698519, '010100': 112.07640721493533, '101011': 157.39728671038728, '111111': 86.07134909091253, '011101': 64.40325315220639, '010101': 106.93484483335038, '000001': 214.4657372755986, '110001': 170.2009642186855, '100111': 207.5414382096616, '010001': 155.60288049695978, '101110': 113.12176097536398, '110010': 129.82367692827205, '000110': 146.88624399099393, '011011': 69.46085762592486, '101100': 106.8181838456765, '000111': 142.24741767112766, '111100': 49.970192478718964, '111011': 68.28130526190401, '001111': 68.38279504429218, '110000': 176.9539039131178, '111001': 93.41698452099777, '010010': 143.15898278046257, '010011': 150.7387671700262, '101001': 124.49464978784756, '100000': 266.2460784993501, '100010': 254.0114425665368, '110111': 99.72866789568025, '000010': 207.00252595368377, '001110': 63.82573815909044, '111000': 86.32269523393173, '011010': 63.24469275589532, '100101': 179.05904972228353, '111101': 41.910512017730746, '010111': 116.19876293619733, '001000': 74.17620686812042, '010110': 85.81531414410884, '011001': 49.757648234887135, '101101': 118.98506607492425, '001011': 96.41458268303776, '011111': 53.28968485774455, '110100': 147.30644065007695, '100110': 197.90252692765569, '010000': 121.99757232991023, '101111': 126.68637064189336, '011100': 59.8139122837487, '011110': 48.65564537925028, '001100': 56.888665202705354, '000000': 194.56965706145863, '101000': 139.21409934016927, '100001': 274.44015785027915, '110101': 150.09410956073526, '100100': 179.03409932518824, '000100': 155.41073383255335, '011000': 80.19075057940194, '001101': 100.08774090520384, '111110': 48.326504656605124, '110110': 145.0952425234838, '001001': 101.15285355049143, '000011': 219.17533324295906, '101010': 102.84471804483722}"
   ]
  },
  {
   "cell_type": "code",
   "execution_count": 52,
   "metadata": {},
   "outputs": [
    {
     "name": "stdout",
     "output_type": "stream",
     "text": [
      "success: 2046.9703417876392 , fail: 6145.029658212363 , total: 8192.000000000002\n",
      "yield: 0.24987430930024887 \n",
      "\n",
      "Among success, phi+: 478.3824186560007 , psi+: 526.6649544172187 , phi-: 448.9784456976514 , psi-: 592.9445230167681\n",
      "fidelity 0.23370266236404025\n"
     ]
    }
   ],
   "source": [
    "metrics(counts_miti_with_channel)"
   ]
  },
  {
   "cell_type": "markdown",
   "metadata": {},
   "source": [
    "# Finding Metrics (Without Channel)"
   ]
  },
  {
   "cell_type": "code",
   "execution_count": 53,
   "metadata": {},
   "outputs": [],
   "source": [
    "counts_device_without_channel = {'011100': 142, '100100': 106, '101000': 127, '101100': 133, '011111': 103, '111110': 80, '101101': 105, '110001': 115, '111001': 144, '101001': 123, '010000': 196, '001101': 160, '111010': 114, '110010': 105, '110111': 78, '011001': 191, '110011': 88, '011010': 140, '100000': 137, '000011': 146, '001110': 126, '110100': 103, '001100': 152, '001011': 135, '101110': 96, '010111': 87, '101111': 88, '000001': 180, '001001': 167, '100011': 107, '101011': 151, '100001': 138, '100110': 89, '000100': 155, '001000': 191, '011110': 116, '001111': 117, '010100': 146, '010010': 137, '011011': 120, '010101': 137, '110000': 125, '110101': 69, '100101': 96, '111011': 100, '101010': 126, '111111': 76, '010110': 115, '000010': 180, '110110': 91, '000111': 126, '000000': 183, '001010': 166, '100010': 103, '011000': 165, '111100': 126, '000110': 143, '010011': 140, '100111': 113, '111101': 89, '011101': 139, '000101': 137, '010001': 171, '111000': 142}"
   ]
  },
  {
   "cell_type": "code",
   "execution_count": 54,
   "metadata": {},
   "outputs": [
    {
     "name": "stdout",
     "output_type": "stream",
     "text": [
      "success: 2048 , fail: 6144 , total: 8192\n",
      "yield: 0.25 \n",
      "\n",
      "Among success, phi+: 586 , psi+: 544 , phi-: 491 , psi-: 427\n",
      "fidelity 0.2861328125\n"
     ]
    }
   ],
   "source": [
    "metrics(counts_device_without_channel)"
   ]
  },
  {
   "cell_type": "code",
   "execution_count": 55,
   "metadata": {},
   "outputs": [],
   "source": [
    "counts_miti_without_channel = {'000010': 127.00054422870987, '001101': 156.6341941076184, '001100': 118.21682354643376, '001111': 118.45581617508257, '011101': 157.58888403724814, '100011': 101.58479242723554, '010011': 126.50340967973162, '100001': 142.493606544942, '011000': 118.87327959027672, '101100': 171.72727214412677, '110001': 130.27524955362904, '100000': 124.49732894560903, '011010': 118.21522895882347, '110111': 122.61224964678338, '011001': 178.0328428162, '000110': 115.99256738269685, '010110': 98.73450522288707, '000100': 109.87042369247821, '001000': 138.53614432604624, '111010': 152.17742197426136, '111000': 169.21375426533444, '000111': 101.99279690701799, '001011': 96.52992657434, '111111': 133.72580475154132, '011011': 107.21063220215339, '011110': 124.7657523102531, '101000': 120.07155918403677, '000101': 104.12421925772952, '001001': 127.57470242849942, '111011': 147.68551784779703, '101111': 133.80164673219343, '000011': 108.14931293580072, '010100': 121.91275158383557, '001110': 113.8287388308842, '101011': 210.65294127537743, '101101': 145.99639210400517, '001010': 127.69908570106018, '110010': 115.17842738735784, '111100': 195.31458557316097, '010111': 76.50687738397451, '100111': 156.85870551355694, '010001': 132.02276375595392, '100010': 88.43648157026429, '110100': 123.62944444194623, '100100': 106.32754592749042, '110101': 85.43020846449294, '011111': 121.26867473249047, '010000': 147.90436690363072, '000001': 117.11280014963219, '101001': 127.99099914809797, '101110': 128.13658936522373, '111110': 120.12207620390183, '100101': 107.98757201063007, '110000': 126.30274369444065, '010010': 97.23499748180807, '011100': 125.91882418840967, '101010': 144.04260932763765, '111101': 146.1120468054193, '111001': 209.62439546081717, '010101': 140.4758898313239, '110110': 127.29280121983199, '000000': 98.85525199098633, '100110': 95.86722156061579, '110011': 107.08698001422701}"
   ]
  },
  {
   "cell_type": "code",
   "execution_count": 56,
   "metadata": {},
   "outputs": [
    {
     "name": "stdout",
     "output_type": "stream",
     "text": [
      "success: 2032.371395948826 , fail: 6159.628604051176 , total: 8192.000000000002\n",
      "yield: 0.24809221141953436 \n",
      "\n",
      "Among success, phi+: 538.6894048050217 , psi+: 550.134290616299 , phi-: 476.12978665085376 , psi-: 467.4179138766516\n",
      "fidelity 0.26505460856160645\n"
     ]
    }
   ],
   "source": [
    "metrics(counts_miti_without_channel)"
   ]
  },
  {
   "cell_type": "code",
   "execution_count": 60,
   "metadata": {},
   "outputs": [],
   "source": [
    "n = 3"
   ]
  },
  {
   "cell_type": "code",
   "execution_count": 61,
   "metadata": {},
   "outputs": [],
   "source": [
    "def metrics(counts):\n",
    "    success, fail = 0, 0\n",
    "    phi_plus, psi_plus, phi_minus, psi_minus = 0, 0, 0, 0 \n",
    "\n",
    "    for result in counts:\n",
    "        # checking if a result is a success or a failure\n",
    "        check = 1\n",
    "        for i in range(0, n-1):\n",
    "            if (result[2*i] != result[2*i+1]):\n",
    "                check=0\n",
    "                break\n",
    "                \n",
    "        if (check == 1):\n",
    "            success += counts[result]\n",
    "\n",
    "            if (result[-2:]=='00'): \n",
    "                phi_plus += counts[result]\n",
    "            elif (result[-2:]=='01'): \n",
    "                psi_plus += counts[result]\n",
    "            elif (result[-2:]=='10'): \n",
    "                phi_minus += counts[result]\n",
    "            elif (result[-2:]=='11'): \n",
    "                psi_minus += counts[result]\n",
    "        else:\n",
    "            fail += counts[result]\n",
    "\n",
    "    total = success + fail\n",
    "    print('success:', success, ',', 'fail:', fail, ',', 'total:', total)\n",
    "    yields = success/(total)\n",
    "    print('yield:', yields, '\\n')\n",
    "\n",
    "    print('Among success, phi+:', phi_plus, ',', 'psi+:', psi_plus, ',', 'phi-:', phi_minus, ',', 'psi-:', psi_minus)\n",
    "    fidelity = phi_plus/success\n",
    "    print('fidelity', fidelity)"
   ]
  },
  {
   "cell_type": "code",
   "execution_count": 68,
   "metadata": {},
   "outputs": [
    {
     "name": "stdout",
     "output_type": "stream",
     "text": [
      "success: 2000 , fail: 0 , total: 2000\n",
      "yield: 1.0 \n",
      "\n",
      "Among success, phi+: 1000 , psi+: 1000 , phi-: 0 , psi-: 0\n",
      "fidelity 0.5\n"
     ]
    }
   ],
   "source": [
    "counts = {'1111101': 1000, '000000': 1000}\n",
    "metrics(counts)"
   ]
  },
  {
   "cell_type": "code",
   "execution_count": null,
   "metadata": {},
   "outputs": [],
   "source": []
  }
 ],
 "metadata": {
  "kernelspec": {
   "display_name": "Python 3",
   "language": "python",
   "name": "python3"
  },
  "language_info": {
   "codemirror_mode": {
    "name": "ipython",
    "version": 3
   },
   "file_extension": ".py",
   "mimetype": "text/x-python",
   "name": "python",
   "nbconvert_exporter": "python",
   "pygments_lexer": "ipython3",
   "version": "3.7.7"
  }
 },
 "nbformat": 4,
 "nbformat_minor": 4
}
