{
 "cells": [
  {
   "cell_type": "code",
   "execution_count": 1,
   "metadata": {},
   "outputs": [],
   "source": [
    "from math import pi\n",
    "\n",
    "from qiskit import QuantumCircuit, ClassicalRegister, QuantumRegister\n",
    "from qiskit import Aer, execute\n",
    "\n",
    "simulator = Aer.get_backend('qasm_simulator')\n",
    "\n",
    "from qiskit import IBMQ\n",
    "\n",
    "IBMQ.load_account() # Load account from disk\n",
    "provider = IBMQ.get_provider(group='open')\n",
    "device = provider.get_backend('ibmq_16_melbourne')\n",
    "\n",
    "from qiskit import execute\n",
    "from qiskit.tools.monitor import job_monitor\n",
    "\n",
    "from qiskit.visualization import plot_histogram\n",
    "\n",
    "# For Error Mitigation\n",
    "from qiskit.ignis.mitigation.measurement import (complete_meas_cal, CompleteMeasFitter)\n",
    "\n",
    "# For Noise Simulations\n",
    "from qiskit.test.mock import FakeMelbourne\n",
    "fake_device = FakeMelbourne()\n",
    "\n",
    "from qiskit.providers.aer.noise import NoiseModel"
   ]
  },
  {
   "cell_type": "markdown",
   "metadata": {},
   "source": [
    "# Function for Finding Metrics"
   ]
  },
  {
   "cell_type": "code",
   "execution_count": 2,
   "metadata": {},
   "outputs": [],
   "source": [
    "def metrics(counts):\n",
    "    phi_plus, psi_plus, phi_minus, psi_minus = 0, 0, 0, 0 \n",
    "\n",
    "    for result in counts:        \n",
    "        if (result[-1]=='0' and result[0]=='0'): \n",
    "            phi_plus += counts[result]\n",
    "        elif (result[-1]=='0' and result[0]=='1'): \n",
    "            psi_plus += counts[result]\n",
    "        elif (result[-1]=='1' and result[0]=='0'): \n",
    "            phi_minus += counts[result]\n",
    "        elif (result[-1]=='1' and result[0]=='1'): \n",
    "            psi_minus += counts[result]\n",
    "\n",
    "    total = phi_plus + psi_plus + phi_minus + psi_minus\n",
    "    print('total:', total)\n",
    "\n",
    "    print('phi+:', phi_plus, ',', 'psi+:', psi_plus, ',', 'phi-:', phi_minus, ',', 'psi-:', psi_minus)\n",
    "    fidelity = phi_plus/total\n",
    "    print('fidelity', fidelity)"
   ]
  },
  {
   "cell_type": "markdown",
   "metadata": {},
   "source": [
    "# Create sub-circuit for Entanglement-Swapping"
   ]
  },
  {
   "cell_type": "code",
   "execution_count": 3,
   "metadata": {},
   "outputs": [],
   "source": [
    "sub_q = QuantumRegister(3)\n",
    "sub_circ = QuantumCircuit(sub_q, name='e\\ns')\n",
    "\n",
    "sub_circ.cx(sub_q[0], sub_q[1])\n",
    "sub_circ.h(sub_q[0])\n",
    "sub_circ.cx(sub_q[1], sub_q[2])\n",
    "sub_circ.cz(sub_q[0], sub_q[2])\n",
    "\n",
    "ent_swap = sub_circ.to_instruction()"
   ]
  },
  {
   "cell_type": "markdown",
   "metadata": {},
   "source": [
    "# Building Circuit for Entanglement Swapping"
   ]
  },
  {
   "cell_type": "code",
   "execution_count": 4,
   "metadata": {},
   "outputs": [
    {
     "data": {
      "image/png": "[encoded data removed]",
      "text/plain": [
       "<Figure size 883.736x325.08 with 1 Axes>"
      ]
     },
     "execution_count": 4,
     "metadata": {},
     "output_type": "execute_result"
    }
   ],
   "source": [
    "# no. of qubits for channel\n",
    "n = 0\n",
    "\n",
    "qbits = QuantumRegister(4+n, 'qbits')\n",
    "cbits = ClassicalRegister(4+n, 'cbits')\n",
    "\n",
    "sys = QuantumCircuit(qbits, cbits)\n",
    "\n",
    "# creating bell-pairs\n",
    "sys.h(qbits[0])\n",
    "sys.cx(qbits[0], qbits[1])\n",
    "\n",
    "sys.h(qbits[-2])\n",
    "sys.cx(qbits[-2], qbits[-1])\n",
    "\n",
    "# # transferring one qubit to channel\n",
    "# sys.swap(qbits[1], qbits[2])\n",
    "\n",
    "# entanglement swapping\n",
    "sys.append(ent_swap, [qbits[-3], qbits[-2], qbits[-1]])\n",
    "\n",
    "sys.barrier()\n",
    "\n",
    "# checking fidelity with bell-basis measurement \n",
    "sys.cx(qbits[0], qbits[-1])\n",
    "sys.h(qbits[0])\n",
    "\n",
    "sys.barrier()\n",
    "\n",
    "# measuring qubits\n",
    "sys.measure(qbits, cbits)\n",
    "\n",
    "sys.draw(output='mpl')"
   ]
  },
  {
   "cell_type": "markdown",
   "metadata": {},
   "source": [
    "# Running on Real Device"
   ]
  },
  {
   "cell_type": "code",
   "execution_count": 5,
   "metadata": {},
   "outputs": [
    {
     "name": "stdout",
     "output_type": "stream",
     "text": [
      "2af1d190-b1b7-486c-98ca-5a8c3981f52d\n",
      "\r",
      "Job Status: job has successfully run\n"
     ]
    }
   ],
   "source": [
    "shots = 8192\n",
    "job = execute(sys, \n",
    "              backend=simulator, shots=shots, optimization_level=0)\n",
    "\n",
    "print(job.job_id())\n",
    "job_monitor(job)"
   ]
  },
  {
   "cell_type": "code",
   "execution_count": 6,
   "metadata": {},
   "outputs": [
    {
     "name": "stdout",
     "output_type": "stream",
     "text": [
      "{'0010': 1971, '0000': 2027, '0100': 2058, '0110': 2136}\n",
      "total: 8192\n",
      "phi+: 8192 , psi+: 0 , phi-: 0 , psi-: 0\n",
      "fidelity 1.0\n"
     ]
    }
   ],
   "source": [
    "device_result = job.result()\n",
    "device_counts = device_result.get_counts()\n",
    "\n",
    "print(device_counts)\n",
    "\n",
    "metrics(device_counts)"
   ]
  },
  {
   "cell_type": "markdown",
   "metadata": {},
   "source": [
    "# Error Mitigation"
   ]
  },
  {
   "cell_type": "code",
   "execution_count": null,
   "metadata": {},
   "outputs": [],
   "source": [
    "#generating calibration circuits\n",
    "cal_circuits, state_labels = complete_meas_cal(qr=sys.qregs[0],\n",
    "                                               circlabel='measurement_calibration')\n",
    "\n",
    "# running calibration circuits\n",
    "cal_job = execute(cal_circuits, \n",
    "                  backend=device, shots=8192, optimization_level=0)\n",
    "\n",
    "print(cal_job.job_id())\n",
    "job_monitor(cal_job)"
   ]
  },
  {
   "cell_type": "code",
   "execution_count": null,
   "metadata": {},
   "outputs": [],
   "source": [
    "cal_results = cal_job.result()\n",
    "\n",
    "# creating mitigation filter\n",
    "meas_fitter = CompleteMeasFitter(cal_results, state_labels)\n",
    "meas_filter = meas_fitter.filter"
   ]
  },
  {
   "cell_type": "code",
   "execution_count": null,
   "metadata": {},
   "outputs": [],
   "source": [
    "# error mitigation\n",
    "mitigated_result = meas_filter.apply(device_result)\n",
    "mitigated_counts = mitigated_result.get_counts(0)\n",
    "\n",
    "print(mitigated_counts)"
   ]
  },
  {
   "cell_type": "code",
   "execution_count": null,
   "metadata": {},
   "outputs": [],
   "source": [
    "metrics(mitigated_counts)"
   ]
  },
  {
   "cell_type": "markdown",
   "metadata": {},
   "source": [
    "# Noisy Simulation"
   ]
  },
  {
   "cell_type": "code",
   "execution_count": 7,
   "metadata": {},
   "outputs": [],
   "source": [
    "noise_model = NoiseModel.from_backend(fake_device)\n",
    "coupling_map = fake_device.configuration().coupling_map\n",
    "basis_gates = noise_model.basis_gates"
   ]
  },
  {
   "cell_type": "code",
   "execution_count": 8,
   "metadata": {},
   "outputs": [
    {
     "name": "stdout",
     "output_type": "stream",
     "text": [
      "acb8d511-234b-41a3-bb90-83c3d13b5890\n",
      "Job Status: job has successfully run\n"
     ]
    }
   ],
   "source": [
    "noise_job = execute(sys, backend=simulator, shots=8192, optimization_level=0,\n",
    "                       noise_model=noise_model,\n",
    "                       #coupling_map=coupling_map,\n",
    "                       basis_gates=basis_gates)\n",
    "\n",
    "print(noise_job.job_id())\n",
    "job_monitor(noise_job)"
   ]
  },
  {
   "cell_type": "code",
   "execution_count": 9,
   "metadata": {},
   "outputs": [
    {
     "name": "stdout",
     "output_type": "stream",
     "text": [
      "{'0010': 1594, '0111': 244, '1010': 131, '1101': 98, '1110': 123, '0011': 227, '1111': 79, '1000': 130, '0100': 1649, '0110': 1468, '0101': 263, '0000': 1610, '1001': 89, '1011': 91, '0001': 250, '1100': 146}\n",
      "total: 8192\n",
      "phi+: 6321 , psi+: 530 , phi-: 984 , psi-: 357\n",
      "fidelity 0.7716064453125\n"
     ]
    }
   ],
   "source": [
    "noise_result = noise_job.result()\n",
    "noise_counts = noise_result.get_counts()\n",
    "\n",
    "print(noise_counts)\n",
    "\n",
    "metrics(noise_counts)"
   ]
  },
  {
   "cell_type": "code",
   "execution_count": null,
   "metadata": {},
   "outputs": [],
   "source": []
  }
 ],
 "metadata": {
  "kernelspec": {
   "display_name": "Python 3",
   "language": "python",
   "name": "python3"
  },
  "language_info": {
   "codemirror_mode": {
    "name": "ipython",
    "version": 3
   },
   "file_extension": ".py",
   "mimetype": "text/x-python",
   "name": "python",
   "nbconvert_exporter": "python",
   "pygments_lexer": "ipython3",
   "version": "3.7.7"
  }
 },
 "nbformat": 4,
 "nbformat_minor": 4
}
