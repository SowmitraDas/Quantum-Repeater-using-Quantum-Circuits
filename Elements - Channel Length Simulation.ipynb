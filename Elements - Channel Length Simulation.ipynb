{
 "cells": [
  {
   "cell_type": "code",
   "execution_count": 1,
   "metadata": {},
   "outputs": [],
   "source": [
    "from math import pi\n",
    "\n",
    "from qiskit import QuantumCircuit, ClassicalRegister, QuantumRegister\n",
    "from qiskit import Aer, execute\n",
    "\n",
    "simulator = Aer.get_backend('qasm_simulator')\n",
    "\n",
    "from qiskit import IBMQ\n",
    "\n",
    "IBMQ.load_account() # Load account from disk\n",
    "provider = IBMQ.get_provider(group='open')\n",
    "device = provider.get_backend('ibmq_16_melbourne')\n",
    "\n",
    "from qiskit import execute\n",
    "from qiskit.tools.monitor import job_monitor\n",
    "\n",
    "from qiskit.visualization import plot_histogram\n",
    "\n",
    "# For Error Mitigation\n",
    "from qiskit.ignis.mitigation.measurement import (complete_meas_cal, CompleteMeasFitter)\n",
    "\n",
    "# For Noise Simulations\n",
    "from qiskit.test.mock import FakeMelbourne\n",
    "fake_device = FakeMelbourne()\n",
    "\n",
    "from qiskit.providers.aer.noise import NoiseModel"
   ]
  },
  {
   "cell_type": "markdown",
   "metadata": {},
   "source": [
    "# Function for Finding Metrics"
   ]
  },
  {
   "cell_type": "code",
   "execution_count": 2,
   "metadata": {},
   "outputs": [],
   "source": [
    "def metrics(counts):\n",
    "    phi_plus, psi_plus, phi_minus, psi_minus = 0, 0, 0, 0 \n",
    "\n",
    "    for result in counts:        \n",
    "        if (result[-1]=='0' and result[0]=='0'): \n",
    "            phi_plus += counts[result]\n",
    "        elif (result[-1]=='0' and result[0]=='1'): \n",
    "            psi_plus += counts[result]\n",
    "        elif (result[-1]=='1' and result[0]=='0'): \n",
    "            phi_minus += counts[result]\n",
    "        elif (result[-1]=='1' and result[0]=='1'): \n",
    "            psi_minus += counts[result]\n",
    "\n",
    "    total = phi_plus + psi_plus + phi_minus + psi_minus\n",
    "    print('total:', total)\n",
    "\n",
    "    print('phi+:', phi_plus, ',', 'psi+:', psi_plus, ',', 'phi-:', phi_minus, ',', 'psi-:', psi_minus)\n",
    "    fidelity = phi_plus/total\n",
    "    print('fidelity', fidelity)"
   ]
  },
  {
   "cell_type": "markdown",
   "metadata": {},
   "source": [
    "# Creating Circuit"
   ]
  },
  {
   "cell_type": "code",
   "execution_count": 14,
   "metadata": {},
   "outputs": [
    {
     "data": {
      "image/png": "[encoded data removed]",
      "text/plain": [
       "<Figure size 763.336x264.88 with 1 Axes>"
      ]
     },
     "execution_count": 14,
     "metadata": {},
     "output_type": "execute_result"
    }
   ],
   "source": [
    "#no. of swap gates, a.k.a., length of channel\n",
    "n = 1\n",
    "\n",
    "qbits = QuantumRegister(n+2, 'qbits')\n",
    "cbits = ClassicalRegister(n+2, 'cbits')\n",
    "\n",
    "sys = QuantumCircuit(qbits, cbits)\n",
    "\n",
    "# preparing bell pair\n",
    "sys.h(qbits[0])\n",
    "sys.cx(qbits[0], qbits[1])\n",
    "\n",
    "for i in range (0, n):\n",
    "    sys.swap(qbits[i+1], qbits[i+2])\n",
    "\n",
    "# bell-basis measurement\n",
    "sys.cx(qbits[0], qbits[n+1])\n",
    "sys.h(qbits[0])\n",
    "\n",
    "sys.barrier()\n",
    "\n",
    "sys.measure(qbits, cbits)\n",
    "\n",
    "sys.draw(output='mpl')"
   ]
  },
  {
   "cell_type": "markdown",
   "metadata": {},
   "source": [
    "# Running on Real Device"
   ]
  },
  {
   "cell_type": "code",
   "execution_count": null,
   "metadata": {},
   "outputs": [],
   "source": [
    "shots = 8192\n",
    "job = execute(sys, \n",
    "              backend=device, shots=shots, optimization_level=0)\n",
    "\n",
    "print(job.job_id())\n",
    "job_monitor(job)"
   ]
  },
  {
   "cell_type": "code",
   "execution_count": null,
   "metadata": {},
   "outputs": [],
   "source": [
    "device_result = job.result()\n",
    "device_counts = device_result.get_counts()\n",
    "\n",
    "print(device_counts)"
   ]
  },
  {
   "cell_type": "code",
   "execution_count": null,
   "metadata": {},
   "outputs": [],
   "source": [
    "metrics(device_counts)"
   ]
  },
  {
   "cell_type": "markdown",
   "metadata": {},
   "source": [
    "# Error Mitigation"
   ]
  },
  {
   "cell_type": "code",
   "execution_count": null,
   "metadata": {},
   "outputs": [],
   "source": [
    "#generating calibration circuits\n",
    "cal_circuits, state_labels = complete_meas_cal(qr=sys.qregs[0],\n",
    "                                               circlabel='measurement_calibration')\n",
    "\n",
    "# running calibration circuits\n",
    "cal_job = execute(cal_circuits, \n",
    "                  backend=device, shots=8192, optimization_level=0)\n",
    "\n",
    "print(cal_job.job_id())\n",
    "job_monitor(cal_job)"
   ]
  },
  {
   "cell_type": "code",
   "execution_count": null,
   "metadata": {},
   "outputs": [],
   "source": [
    "cal_results = cal_job.result()\n",
    "\n",
    "# creating mitigation filter\n",
    "meas_fitter = CompleteMeasFitter(cal_results, state_labels)\n",
    "meas_filter = meas_fitter.filter"
   ]
  },
  {
   "cell_type": "code",
   "execution_count": null,
   "metadata": {},
   "outputs": [],
   "source": [
    "# error mitigation\n",
    "mitigated_result = meas_filter.apply(device_result)\n",
    "mitigated_counts = mitigated_result.get_counts(0)\n",
    "\n",
    "print(mitigated_counts)"
   ]
  },
  {
   "cell_type": "code",
   "execution_count": null,
   "metadata": {},
   "outputs": [],
   "source": [
    "metrics(mitigated_counts)"
   ]
  },
  {
   "cell_type": "markdown",
   "metadata": {},
   "source": [
    "# Noisy Simulation"
   ]
  },
  {
   "cell_type": "code",
   "execution_count": 15,
   "metadata": {},
   "outputs": [],
   "source": [
    "noise_model = NoiseModel.from_backend(fake_device)\n",
    "coupling_map = fake_device.configuration().coupling_map\n",
    "basis_gates = noise_model.basis_gates"
   ]
  },
  {
   "cell_type": "code",
   "execution_count": 17,
   "metadata": {},
   "outputs": [
    {
     "name": "stdout",
     "output_type": "stream",
     "text": [
      "7b38e63c-95c4-4d7f-9047-a076530297af\n",
      "Job Status: job has successfully run\n"
     ]
    }
   ],
   "source": [
    "shots = 8192\n",
    "noise_job = execute(sys, \n",
    "                    backend=simulator, shots=shots, optimization_level=0, \n",
    "                    noise_model=noise_model, \n",
    "                    #coupling_map=coupling_map,\n",
    "                    basis_gates=basis_gates)\n",
    "\n",
    "print(noise_job.job_id())\n",
    "job_monitor(noise_job)"
   ]
  },
  {
   "cell_type": "code",
   "execution_count": 18,
   "metadata": {},
   "outputs": [
    {
     "name": "stdout",
     "output_type": "stream",
     "text": [
      "{'010': 483, '101': 622, '000': 4046, '011': 351, '001': 972, '100': 901, '110': 455, '111': 362}\n",
      "total: 8192\n",
      "phi+: 4529 , psi+: 1356 , phi-: 1323 , psi-: 984\n",
      "fidelity 0.5528564453125\n"
     ]
    }
   ],
   "source": [
    "noise_result = noise_job.result()\n",
    "noise_counts = noise_result.get_counts()\n",
    "\n",
    "print(noise_counts)\n",
    "\n",
    "metrics(noise_counts)"
   ]
  },
  {
   "cell_type": "code",
   "execution_count": null,
   "metadata": {},
   "outputs": [],
   "source": []
  }
 ],
 "metadata": {
  "kernelspec": {
   "display_name": "Python 3",
   "language": "python",
   "name": "python3"
  },
  "language_info": {
   "codemirror_mode": {
    "name": "ipython",
    "version": 3
   },
   "file_extension": ".py",
   "mimetype": "text/x-python",
   "name": "python",
   "nbconvert_exporter": "python",
   "pygments_lexer": "ipython3",
   "version": "3.7.7"
  }
 },
 "nbformat": 4,
 "nbformat_minor": 4
}
